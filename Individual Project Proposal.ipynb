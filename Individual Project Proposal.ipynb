{
 "cells": [
  {
   "cell_type": "markdown",
   "id": "41d1d287",
   "metadata": {},
   "source": [
    "Analysis 1:\n",
    "\n",
    "Statement of the specific reasearch question: Is the housing household size correlated with people's age in Canada?\n",
    "\n",
    "The variables: Housing household size based on people's ages. The reason why I choose this dara as variables is the these datas have specific numbers.\n",
    "\n",
    "Analyses that we are planning to perform: We plan to use null hypothesis method. By biulding a null hypothesis that the housing household size does not correlated with the age, and try to reject it.\n",
    "\n",
    "Hypothesis: They are correlated, as age increases, housing household size will also increase."
   ]
  },
  {
   "cell_type": "markdown",
   "id": "64521ac5",
   "metadata": {},
   "source": [
    "Analysis 2:\n",
    "\n",
    "Statement of the specific reasearch question: Is the household income correlated with people's age in Canada?\n",
    "\n",
    "The variables: Household income based on people's ages. The reason why I choose this dara as variables is the these datas have specific numbers.\n",
    "\n",
    "Analyses that we are planning to perform: We plan to use null hypothesis method. By biulding a null hypothesis that the household income does not correlated with the age, and try to reject it.\n",
    "\n",
    "Hypothesis: They are correlated, as age increases, household income will also increase, but at a specific point, it will starts to decrease."
   ]
  },
  {
   "cell_type": "markdown",
   "id": "57bbb663",
   "metadata": {},
   "source": [
    "Analysis 3:\n",
    "\n",
    "Statement of the specific reasearch question: Is the social media time per day correlated with people's age in Canada?\n",
    "\n",
    "The variables: Social media time per day based on people's ages. The reason why I choose this dara as variables is the these datas have specific numbers.\n",
    "\n",
    "Analyses that we are planning to perform: We plan to use null hypothesis method. By biulding a null hypothesis that the social media time per day does not correlated with the age, and try to reject it.\n",
    "\n",
    "Hypothesis: They are correlated, as age increases, the social media time per day will decrease."
   ]
  },
  {
   "cell_type": "markdown",
   "id": "29a0e043",
   "metadata": {},
   "source": [
    "Team members: XiaoBin Qian, XuanYu Zhang"
   ]
  }
 ],
 "metadata": {
  "kernelspec": {
   "display_name": "Python 3 (ipykernel)",
   "language": "python",
   "name": "python3"
  },
  "language_info": {
   "codemirror_mode": {
    "name": "ipython",
    "version": 3
   },
   "file_extension": ".py",
   "mimetype": "text/x-python",
   "name": "python",
   "nbconvert_exporter": "python",
   "pygments_lexer": "ipython3",
   "version": "3.11.6"
  }
 },
 "nbformat": 4,
 "nbformat_minor": 5
}
