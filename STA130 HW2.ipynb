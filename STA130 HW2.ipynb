{
 "cells": [
  {
   "cell_type": "code",
   "execution_count": null,
   "id": "0fafe821",
   "metadata": {},
   "outputs": [],
   "source": [
    "# I prefer the simplified version of the code provided by chatbot, which is more readable and understandable."
   ]
  },
  {
   "cell_type": "code",
   "execution_count": null,
   "id": "1f4e6896",
   "metadata": {},
   "outputs": [],
   "source": [
    "# ChatBot history link: https://chatgpt.com/c/66eb4cfd-45a0-800a-aa50-80363e6babf2"
   ]
  },
  {
   "cell_type": "code",
   "execution_count": 1,
   "id": "b539ac13",
   "metadata": {},
   "outputs": [
    {
     "data": {
      "text/plain": [
       "0.66455"
      ]
     },
     "execution_count": 1,
     "metadata": {},
     "output_type": "execute_result"
    }
   ],
   "source": [
    "import numpy as np\n",
    "\n",
    "# Simulation parameters\n",
    "all_doors = (1, 2, 3)\n",
    "initial_choice = 1  # always choose door 1 initially\n",
    "switch_wins = 0  # count of wins when switching\n",
    "reps = 100000  # number of repetitions\n",
    "\n",
    "for _ in range(reps):\n",
    "    # Randomly place the car behind one of the doors\n",
    "    winning_door = np.random.choice(all_doors)\n",
    "\n",
    "    # Monty opens one of the doors with a goat (not the chosen or winning door)\n",
    "    monty_options = [door for door in all_doors if door != initial_choice and door != winning_door]\n",
    "    monty_reveal = np.random.choice(monty_options)\n",
    "\n",
    "    # The remaining door is the one available if we switch\n",
    "    remaining_door = [door for door in all_doors if door != initial_choice and door != monty_reveal][0]\n",
    "\n",
    "    # Switch strategy: choose the remaining door\n",
    "    if remaining_door == winning_door:\n",
    "        switch_wins += 1\n",
    "\n",
    "# Calculate the proportion of wins when switching\n",
    "switch_win_rate = switch_wins / reps\n",
    "switch_win_rate\n"
   ]
  },
  {
   "cell_type": "code",
   "execution_count": null,
   "id": "94701045",
   "metadata": {},
   "outputs": [],
   "source": [
    "# Q4 ChatBot history link: https://chatgpt.com/c/66eb82ee-e524-800a-baba-9c8e1c9c6fa9"
   ]
  },
  {
   "cell_type": "code",
   "execution_count": null,
   "id": "270a11b7",
   "metadata": {},
   "outputs": [],
   "source": [
    "# Q5 Chatbot history link: https://chatgpt.com/c/66eb82ee-e524-800a-baba-9c8e1c9c6fa9"
   ]
  },
  {
   "cell_type": "code",
   "execution_count": null,
   "id": "0cbcb503",
   "metadata": {},
   "outputs": [],
   "source": [
    "# Q6 (1): The Chatbot can be solved in 1 minute. It first identifies the robot model, then points out the key points of the code, and puts forward improvement suggestions and improved code, and finally describes the working principle\n",
    "  # (2): Interacting with the Chatbot is helpful and instructive.\n",
    "  # (3): I think it is very helpful to interact with Chatbot. It can accurately point out my mistakes and give detailed descriptions and explanations, which is very practical."
   ]
  },
  {
   "cell_type": "code",
   "execution_count": null,
   "id": "a458dbc2",
   "metadata": {},
   "outputs": [],
   "source": [
    "# Q7: Since taking the course, my view of AI AIDS has changed from a simple question-and-answer tool to a very reliable partner. It can provide detailed guidance and multiple corrections for errors,"
   ]
  },
  {
   "cell_type": "code",
   "execution_count": null,
   "id": "d51b28ee",
   "metadata": {},
   "outputs": [],
   "source": [
    "# Q8: (4)In my opinion, if my future career is to become a data statistician, I need to be familiar with the basic concepts of statistics, learn the algorithms and skills of data analysis, and integrate my data analysis ability with statistical knowledge to acquire certain professional quality and technology.\n",
    "   # (5)In my opinion, the limitation of artificial intelligence analysis of occupations lies in its inability to flexibly respond to changing professional qualities and new skill requirements. Compared with experts specializing in these occupations, artificial intelligence lacks more new ideas out of conventional thinking. It can only calculate and deduce according to historical data, but cannot imagine in a wild way. In the future, I may choose to let artificial intelligence carry out some imagination and development for the future development prospects of my career.\n",
    "    # ChatBot history link: https://chatgpt.com/c/66eb88d2-d244-800a-8039-ea236e806895"
   ]
  },
  {
   "cell_type": "code",
   "execution_count": null,
   "id": "5c625632",
   "metadata": {},
   "outputs": [],
   "source": [
    "# Q9: Yes."
   ]
  }
 ],
 "metadata": {
  "kernelspec": {
   "display_name": "Python 3 (ipykernel)",
   "language": "python",
   "name": "python3"
  },
  "language_info": {
   "codemirror_mode": {
    "name": "ipython",
    "version": 3
   },
   "file_extension": ".py",
   "mimetype": "text/x-python",
   "name": "python",
   "nbconvert_exporter": "python",
   "pygments_lexer": "ipython3",
   "version": "3.11.6"
  }
 },
 "nbformat": 4,
 "nbformat_minor": 5
}
